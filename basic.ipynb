{
 "cells": [
  {
   "cell_type": "code",
   "execution_count": null,
   "id": "61e1e8c7",
   "metadata": {},
   "outputs": [],
   "source": [
    "import pandas as bk\n",
    "data_1=[1456,542,4987,83,1155,8796,8,99,33]\n",
    "data_2=['a','b','c','d','e','f','g','h','j','k']\n",
    "series_1=bk.Series(data_1)\n",
    "series_2=bk.Series(data_2)\n",
    "print(series_1)\n",
    "print(series_2)\n",
    "print(s[5])"
   ]
  },
  {
   "cell_type": "code",
   "execution_count": null,
   "id": "d97d3d28",
   "metadata": {},
   "outputs": [],
   "source": [
    "import pandas as pd\n",
    "\n",
    "s = pd.Series([10, 20, 30], index=['x', 'y', 'z'])\n",
    "\n",
    "print(s['y'])    \n",
    "print(s[2])\n",
    "print(s['z'])"
   ]
  },
  {
   "cell_type": "code",
   "execution_count": null,
   "id": "404cc8e8",
   "metadata": {},
   "outputs": [],
   "source": [
    "import pandas as pd\n",
    "data = {'apple': 50, 'banana': 30, 'cherry': 20}\n",
    "s = pd.Series(data)\n",
    "print(s)\n"
   ]
  }
 ],
 "metadata": {
  "kernelspec": {
   "display_name": "Python 3",
   "language": "python",
   "name": "python3"
  },
  "language_info": {
   "codemirror_mode": {
    "name": "ipython",
    "version": 3
   },
   "file_extension": ".py",
   "mimetype": "text/x-python",
   "name": "python",
   "nbconvert_exporter": "python",
   "pygments_lexer": "ipython3",
   "version": "3.12.10"
  }
 },
 "nbformat": 4,
 "nbformat_minor": 5
}
